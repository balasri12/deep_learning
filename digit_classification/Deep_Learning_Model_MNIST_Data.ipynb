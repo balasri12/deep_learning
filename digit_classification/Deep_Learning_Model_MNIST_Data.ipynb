{
 "cells": [
  {
   "cell_type": "code",
   "execution_count": 1,
   "metadata": {
    "colab": {},
    "colab_type": "code",
    "id": "sIFNN8QZ_bOE",
    "outputId": "4b4c5b00-8412-4aea-b561-254b56509903"
   },
   "outputs": [
    {
     "name": "stderr",
     "output_type": "stream",
     "text": [
      "Using TensorFlow backend.\n"
     ]
    }
   ],
   "source": [
    "import numpy as np\n",
    "import pandas as pd\n",
    "from keras.datasets import mnist\n",
    "from keras.models import Sequential\n",
    "from keras.layers.core import Dense,Dropout,Activation,Flatten\n",
    "from keras.layers.convolutional import Conv2D,MaxPooling2D\n",
    "from keras.utils import np_utils\n",
    "from sklearn import metrics\n",
    "import matplotlib.pyplot as plt\n",
    "%matplotlib inline"
   ]
  },
  {
   "cell_type": "code",
   "execution_count": 2,
   "metadata": {
    "colab": {},
    "colab_type": "code",
    "id": "1-shLmFt_bOL"
   },
   "outputs": [],
   "source": [
    "(xtrain,ytrain),(xtest,ytest)=mnist.load_data()"
   ]
  },
  {
   "cell_type": "code",
   "execution_count": 3,
   "metadata": {
    "colab": {},
    "colab_type": "code",
    "id": "J-3vAQSE_bOO",
    "outputId": "9672cd3c-6f8e-40bf-db83-82d416aa128a"
   },
   "outputs": [
    {
     "data": {
      "text/plain": [
       "(60000, 28, 28)"
      ]
     },
     "execution_count": 3,
     "metadata": {},
     "output_type": "execute_result"
    }
   ],
   "source": [
    "xtrain.shape"
   ]
  },
  {
   "cell_type": "code",
   "execution_count": 4,
   "metadata": {},
   "outputs": [
    {
     "data": {
      "text/plain": [
       "(10000, 28, 28)"
      ]
     },
     "execution_count": 4,
     "metadata": {},
     "output_type": "execute_result"
    }
   ],
   "source": [
    "xtest.shape"
   ]
  },
  {
   "cell_type": "code",
   "execution_count": 5,
   "metadata": {
    "colab": {},
    "colab_type": "code",
    "id": "p4xmcGJP_bOT",
    "outputId": "6019cb73-1ed8-4527-a9b2-7e2556b359b7"
   },
   "outputs": [
    {
     "data": {
      "text/plain": [
       "<matplotlib.image.AxesImage at 0x2a028574e48>"
      ]
     },
     "execution_count": 5,
     "metadata": {},
     "output_type": "execute_result"
    },
    {
     "data": {
      "image/png": "[encoded data removed]",
      "text/plain": [
       "<matplotlib.figure.Figure at 0x2a02308b160>"
      ]
     },
     "metadata": {},
     "output_type": "display_data"
    }
   ],
   "source": [
    "plt.imshow(xtrain[1,:,:],cmap='gray')"
   ]
  },
  {
   "cell_type": "code",
   "execution_count": 0,
   "metadata": {
    "colab": {},
    "colab_type": "code",
    "id": "mU3KSuSy_bOY",
    "outputId": "d4988846-d47d-463b-b3c8-962e1d0764a1"
   },
   "outputs": [
    {
     "data": {
      "text/plain": [
       "0"
      ]
     },
     "execution_count": 8,
     "metadata": {
      "tags": []
     },
     "output_type": "execute_result"
    }
   ],
   "source": [
    "ytrain[1]"
   ]
  },
  {
   "cell_type": "code",
   "execution_count": 6,
   "metadata": {
    "colab": {},
    "colab_type": "code",
    "id": "lRWtTJxH_bOd",
    "outputId": "5e8c391a-181a-4a89-8cc7-ff24028cca28"
   },
   "outputs": [
    {
     "data": {
      "text/plain": [
       "<matplotlib.image.AxesImage at 0x2a028601fd0>"
      ]
     },
     "execution_count": 6,
     "metadata": {},
     "output_type": "execute_result"
    },
    {
     "data": {
      "image/png": "[encoded data removed]",
      "text/plain": [
       "<matplotlib.figure.Figure at 0x2a0285bc2b0>"
      ]
     },
     "metadata": {},
     "output_type": "display_data"
    }
   ],
   "source": [
    "plt.imshow(xtest[0,:,:],cmap='gray')"
   ]
  },
  {
   "cell_type": "code",
   "execution_count": 0,
   "metadata": {
    "colab": {},
    "colab_type": "code",
    "id": "8tcVyMeh_bOi",
    "outputId": "b6459e39-545f-4119-85f5-ddb350865545"
   },
   "outputs": [
    {
     "data": {
      "text/plain": [
       "array([5, 0, 4, 1, 9, 2, 1, 3, 1, 4, 3, 5, 3, 6, 1, 7, 2, 8, 6, 9, 4, 0,\n",
       "       9, 1, 1, 2, 4, 3, 2, 7, 3, 8, 6, 9, 0, 5, 6, 0, 7, 6, 1, 8, 7, 9,\n",
       "       3, 9, 8, 5, 9, 3], dtype=uint8)"
      ]
     },
     "execution_count": 10,
     "metadata": {
      "tags": []
     },
     "output_type": "execute_result"
    }
   ],
   "source": [
    "ytrain[:50]"
   ]
  },
  {
   "cell_type": "code",
   "execution_count": 7,
   "metadata": {
    "colab": {},
    "colab_type": "code",
    "id": "6kk5l1XH_bOp",
    "outputId": "be5668b4-216e-4ee8-fb98-f64b0e4491f7"
   },
   "outputs": [
    {
     "data": {
      "text/plain": [
       "1    6742\n",
       "7    6265\n",
       "3    6131\n",
       "2    5958\n",
       "9    5949\n",
       "0    5923\n",
       "6    5918\n",
       "8    5851\n",
       "4    5842\n",
       "5    5421\n",
       "Name: 0, dtype: int64"
      ]
     },
     "execution_count": 7,
     "metadata": {},
     "output_type": "execute_result"
    }
   ],
   "source": [
    "L=pd.DataFrame(ytrain)    # transforming the training output to a dataframe\n",
    "L[0].value_counts()"
   ]
  },
  {
   "cell_type": "code",
   "execution_count": 9,
   "metadata": {
    "colab": {},
    "colab_type": "code",
    "id": "83gvdvA4_bOu"
   },
   "outputs": [],
   "source": [
    "#Represent Training & Testing samples suitable for tensorflow backend\n",
    "x_train=xtrain.reshape(xtrain.shape[0],28,28,1).astype('float32')    # The digit 1 signifies the images are in grayscale\n",
    "x_test=xtest.reshape(xtest.shape[0],28,28,1).astype('float32')\n"
   ]
  },
  {
   "cell_type": "code",
   "execution_count": 10,
   "metadata": {
    "colab": {},
    "colab_type": "code",
    "id": "XW7EwGcr_bOy",
    "outputId": "a20a8db6-2847-44fa-dff6-8127681b0dfd"
   },
   "outputs": [
    {
     "data": {
      "text/plain": [
       "(10000, 28, 28, 1)"
      ]
     },
     "execution_count": 10,
     "metadata": {},
     "output_type": "execute_result"
    }
   ],
   "source": [
    "x_test.shape"
   ]
  },
  {
   "cell_type": "code",
   "execution_count": 12,
   "metadata": {
    "colab": {},
    "colab_type": "code",
    "id": "9o2m7zOM_bO1"
   },
   "outputs": [],
   "source": [
    "x_train/=255\n",
    "x_test/=255    # standardize the data for train and test to be between 0 -1"
   ]
  },
  {
   "cell_type": "code",
   "execution_count": 13,
   "metadata": {
    "colab": {},
    "colab_type": "code",
    "id": "mcnMKPHX_bO4",
    "outputId": "69e1e639-7c5c-4ee7-ccb0-03e9244576b8"
   },
   "outputs": [
    {
     "data": {
      "text/plain": [
       "array([0., 0., 0., 0., 1., 0., 0., 0., 0., 0.], dtype=float32)"
      ]
     },
     "execution_count": 13,
     "metadata": {},
     "output_type": "execute_result"
    }
   ],
   "source": [
    "#Encoding the output class label (One-Hot Encoding)\n",
    "y_train=np_utils.to_categorical(ytrain,10)\n",
    "y_test=np_utils.to_categorical(ytest,10)\n",
    "y_train[2]"
   ]
  },
  {
   "cell_type": "code",
   "execution_count": 21,
   "metadata": {
    "colab": {},
    "colab_type": "code",
    "id": "2Xt1CXn__bO7",
    "outputId": "b208940f-af21-4441-ca24-7eb01ae3a29e"
   },
   "outputs": [
    {
     "name": "stderr",
     "output_type": "stream",
     "text": [
      "C:\\Users\\Mukesh\\Anaconda3\\lib\\site-packages\\ipykernel_launcher.py:2: UserWarning: Update your `Conv2D` call to the Keras 2 API: `Conv2D(32, (3, 3), input_shape=(28, 28, 1..., activation=\"relu\", padding=\"valid\")`\n",
      "  \n"
     ]
    }
   ],
   "source": [
    "model=Sequential()\n",
    "model.add(Conv2D(32,(3,3),border_mode='valid',input_shape=(28,28,1),activation='relu'))  # 2d conv with 3X3 filter\n",
    "                                        # border mode for filter to create smaller size activation map\n"
   ]
  },
  {
   "cell_type": "code",
   "execution_count": 22,
   "metadata": {
    "colab": {},
    "colab_type": "code",
    "id": "NlrT2S0o_bO_"
   },
   "outputs": [],
   "source": [
    "model.add(MaxPooling2D(pool_size=(2,2)))     # pooling filter 2 X 2"
   ]
  },
  {
   "cell_type": "code",
   "execution_count": 23,
   "metadata": {
    "colab": {},
    "colab_type": "code",
    "id": "qrDrfhwZ_bPD"
   },
   "outputs": [],
   "source": [
    "model.add(Flatten())   # convert the output of pooling layer to a single vector for dnese layer"
   ]
  },
  {
   "cell_type": "code",
   "execution_count": 24,
   "metadata": {
    "colab": {},
    "colab_type": "code",
    "id": "f0VkLtTP_bPG"
   },
   "outputs": [],
   "source": [
    "model.add(Dense(128,activation='relu'))"
   ]
  },
  {
   "cell_type": "code",
   "execution_count": 25,
   "metadata": {
    "colab": {},
    "colab_type": "code",
    "id": "Bn02NbDV_bPJ"
   },
   "outputs": [],
   "source": [
    "model.add(Dense(10,activation='softmax'))"
   ]
  },
  {
   "cell_type": "code",
   "execution_count": 26,
   "metadata": {
    "colab": {},
    "colab_type": "code",
    "id": "s5Z_cxp-_bPM"
   },
   "outputs": [],
   "source": [
    "model.compile(loss='categorical_crossentropy',optimizer='adam',metrics=['accuracy'])"
   ]
  },
  {
   "cell_type": "code",
   "execution_count": 27,
   "metadata": {
    "colab": {},
    "colab_type": "code",
    "id": "hiVZu3K6_bPS",
    "outputId": "0512edcc-8199-4b26-d16c-573decdf701b"
   },
   "outputs": [
    {
     "name": "stderr",
     "output_type": "stream",
     "text": [
      "C:\\Users\\Mukesh\\Anaconda3\\lib\\site-packages\\ipykernel_launcher.py:1: UserWarning: The `nb_epoch` argument in `fit` has been renamed `epochs`.\n",
      "  \"\"\"Entry point for launching an IPython kernel.\n"
     ]
    },
    {
     "name": "stdout",
     "output_type": "stream",
     "text": [
      "Train on 60000 samples, validate on 10000 samples\n",
      "Epoch 1/12\n",
      "60000/60000 [==============================] - 28s 470us/step - loss: 1.8393 - acc: 0.4584 - val_loss: 0.9990 - val_acc: 0.7862\n",
      "Epoch 2/12\n",
      "60000/60000 [==============================] - 29s 483us/step - loss: 0.7020 - acc: 0.8194 - val_loss: 0.5172 - val_acc: 0.8643\n",
      "Epoch 3/12\n",
      "60000/60000 [==============================] - 29s 483us/step - loss: 0.4682 - acc: 0.8684 - val_loss: 0.4042 - val_acc: 0.8859\n",
      "Epoch 4/12\n",
      "60000/60000 [==============================] - 29s 482us/step - loss: 0.3954 - acc: 0.8850 - val_loss: 0.3627 - val_acc: 0.8930\n",
      "Epoch 5/12\n",
      "60000/60000 [==============================] - 29s 476us/step - loss: 0.3571 - acc: 0.8956 - val_loss: 0.3311 - val_acc: 0.9000\n",
      "Epoch 6/12\n",
      "60000/60000 [==============================] - 27s 455us/step - loss: 0.3305 - acc: 0.9027 - val_loss: 0.3069 - val_acc: 0.9100\n",
      "Epoch 7/12\n",
      "60000/60000 [==============================] - 27s 454us/step - loss: 0.3101 - acc: 0.9080 - val_loss: 0.2920 - val_acc: 0.9146\n",
      "Epoch 8/12\n",
      "60000/60000 [==============================] - 40s 663us/step - loss: 0.2938 - acc: 0.9130 - val_loss: 0.2749 - val_acc: 0.9184\n",
      "Epoch 9/12\n",
      "60000/60000 [==============================] - 48s 802us/step - loss: 0.2790 - acc: 0.9173 - val_loss: 0.2608 - val_acc: 0.9233\n",
      "Epoch 10/12\n",
      "60000/60000 [==============================] - 43s 723us/step - loss: 0.2644 - acc: 0.9219 - val_loss: 0.2493 - val_acc: 0.9253\n",
      "Epoch 11/12\n",
      "60000/60000 [==============================] - 43s 711us/step - loss: 0.2512 - acc: 0.9259 - val_loss: 0.2363 - val_acc: 0.9300\n",
      "Epoch 12/12\n",
      "60000/60000 [==============================] - 43s 722us/step - loss: 0.2385 - acc: 0.9294 - val_loss: 0.2268 - val_acc: 0.9337\n"
     ]
    },
    {
     "data": {
      "text/plain": [
       "<keras.callbacks.History at 0x2a02a71a4e0>"
      ]
     },
     "execution_count": 27,
     "metadata": {},
     "output_type": "execute_result"
    }
   ],
   "source": [
    "model.fit(x_train,y_train,batch_size=200,nb_epoch=12,verbose=1,validation_data=(x_test,y_test))"
   ]
  },
  {
   "cell_type": "code",
   "execution_count": 28,
   "metadata": {
    "colab": {},
    "colab_type": "code",
    "id": "4cdVjT0t_bPW",
    "outputId": "38125486-4713-4bc1-f44f-6c274a97b950"
   },
   "outputs": [
    {
     "name": "stdout",
     "output_type": "stream",
     "text": [
      "10000/10000 [==============================] - 9s 873us/step\n"
     ]
    }
   ],
   "source": [
    "score=model.evaluate(x_test,y_test)"
   ]
  },
  {
   "cell_type": "code",
   "execution_count": 29,
   "metadata": {
    "colab": {},
    "colab_type": "code",
    "id": "PM4D_S8C_bPZ",
    "outputId": "181ad844-7e5e-4015-c8c1-8e83bbf78b17"
   },
   "outputs": [
    {
     "data": {
      "text/plain": [
       "[0.22678403624594212, 0.9337]"
      ]
     },
     "execution_count": 29,
     "metadata": {},
     "output_type": "execute_result"
    }
   ],
   "source": [
    "score"
   ]
  },
  {
   "cell_type": "code",
   "execution_count": 30,
   "metadata": {
    "colab": {},
    "colab_type": "code",
    "id": "vrbg1S0E_bPf"
   },
   "outputs": [],
   "source": [
    "y_predict = model.predict(x_test)"
   ]
  },
  {
   "cell_type": "code",
   "execution_count": 31,
   "metadata": {
    "colab": {},
    "colab_type": "code",
    "id": "iqSGJkjZ_bPj",
    "outputId": "e1b9ff51-b6b3-432e-9d4b-8b3e87638216"
   },
   "outputs": [
    {
     "data": {
      "text/plain": [
       "array([9.6745198e-06, 4.9266013e-09, 2.6113832e-05, 6.2878244e-04,\n",
       "       3.0704800e-07, 7.7578461e-06, 6.1932834e-11, 9.9832088e-01,\n",
       "       8.0196323e-06, 9.9848839e-04], dtype=float32)"
      ]
     },
     "execution_count": 31,
     "metadata": {},
     "output_type": "execute_result"
    }
   ],
   "source": [
    "y_predict[0]"
   ]
  },
  {
   "cell_type": "code",
   "execution_count": 32,
   "metadata": {
    "colab": {},
    "colab_type": "code",
    "id": "avFEjQwg_bPo",
    "outputId": "9c059ca5-04a9-4357-9517-8d99f50128db"
   },
   "outputs": [
    {
     "data": {
      "text/plain": [
       "7"
      ]
     },
     "execution_count": 32,
     "metadata": {},
     "output_type": "execute_result"
    }
   ],
   "source": [
    "np.argmax(y_predict[0])"
   ]
  },
  {
   "cell_type": "code",
   "execution_count": 33,
   "metadata": {
    "colab": {},
    "colab_type": "code",
    "id": "UiY7VhSM_bPr",
    "outputId": "5ccfe855-d567-4af6-d524-100b6cc415be"
   },
   "outputs": [
    {
     "name": "stdout",
     "output_type": "stream",
     "text": [
      "[[ 960    0    2    3    0    4    6    3    2    0]\n",
      " [   0 1106    3    2    1    1    4    2   16    0]\n",
      " [   9    2  943   17   11    1    7   12   28    2]\n",
      " [   3    0   13  929    0   16    1   14   28    6]\n",
      " [   1    2    5    1  931    2    8    2    4   26]\n",
      " [   8    2    2   27    8  793   12    3   31    6]\n",
      " [  10    3    4    0   12   15  909    1    4    0]\n",
      " [   2    7   21    9    7    1    0  954    1   26]\n",
      " [   5    3    4   15    9   17    9   10  899    3]\n",
      " [   8    7    1   11   41    5    1   12   10  913]]\n"
     ]
    }
   ],
   "source": [
    "y_pred = []\n",
    "for val in y_predict:\n",
    "    y_pred.append(np.argmax(val))\n",
    "#print(y_pred)    \n",
    "#convert 0 1 to 1 and 1 0 as 0\n",
    "cm = metrics.confusion_matrix(ytest,y_pred)\n",
    "print(cm)"
   ]
  },
  {
   "cell_type": "code",
   "execution_count": 34,
   "metadata": {
    "colab": {},
    "colab_type": "code",
    "id": "GGj1-q-S_bPv",
    "outputId": "b5446c12-860c-40b5-e623-eb432c01bcec"
   },
   "outputs": [
    {
     "name": "stdout",
     "output_type": "stream",
     "text": [
      "              precision    recall  f1-score   support\n",
      "\n",
      "           0       0.95      0.98      0.97       980\n",
      "           1       0.98      0.97      0.98      1135\n",
      "           2       0.94      0.91      0.93      1032\n",
      "           3       0.92      0.92      0.92      1010\n",
      "           4       0.91      0.95      0.93       982\n",
      "           5       0.93      0.89      0.91       892\n",
      "           6       0.95      0.95      0.95       958\n",
      "           7       0.94      0.93      0.93      1028\n",
      "           8       0.88      0.92      0.90       974\n",
      "           9       0.93      0.90      0.92      1009\n",
      "\n",
      "   micro avg       0.93      0.93      0.93     10000\n",
      "   macro avg       0.93      0.93      0.93     10000\n",
      "weighted avg       0.93      0.93      0.93     10000\n",
      "\n"
     ]
    }
   ],
   "source": [
    "cr=metrics.classification_report(ytest,y_pred)\n",
    "print(cr)"
   ]
  },
  {
   "cell_type": "code",
   "execution_count": 0,
   "metadata": {
    "colab": {},
    "colab_type": "code",
    "id": "RoWrvNFS_bPy"
   },
   "outputs": [],
   "source": []
  },
  {
   "cell_type": "code",
   "execution_count": 0,
   "metadata": {
    "colab": {},
    "colab_type": "code",
    "id": "KSCpgdcX_bP1"
   },
   "outputs": [],
   "source": []
  }
 ],
 "metadata": {
  "colab": {
   "name": "Deep_Learning_Model_MNIST_Data.ipynb",
   "provenance": [],
   "version": "0.3.2"
  },
  "kernelspec": {
   "display_name": "Python 3",
   "language": "python",
   "name": "python3"
  },
  "language_info": {
   "codemirror_mode": {
    "name": "ipython",
    "version": 3
   },
   "file_extension": ".py",
   "mimetype": "text/x-python",
   "name": "python",
   "nbconvert_exporter": "python",
   "pygments_lexer": "ipython3",
   "version": "3.6.5"
  }
 },
 "nbformat": 4,
 "nbformat_minor": 1
}
